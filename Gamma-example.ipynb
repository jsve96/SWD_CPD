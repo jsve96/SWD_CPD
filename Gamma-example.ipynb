{
 "cells": [
  {
   "cell_type": "code",
   "execution_count": 22,
   "metadata": {},
   "outputs": [],
   "source": [
    "import numpy as np\n",
    "import matplotlib.pyplot as plt\n",
    "import pandas as pd"
   ]
  },
  {
   "cell_type": "code",
   "execution_count": 258,
   "metadata": {},
   "outputs": [],
   "source": [
    "def sanity_check(matrix):\n",
    "    if not np.allclose(np.linalg.norm(matrix,axis=1),1):\n",
    "        raise ValueError(\"At least one non unit vector\")\n",
    "    return True\n",
    "\n",
    "def project_and_calc_dist(X,Y,theta,p):\n",
    "    \n",
    "    x_proj = np.dot(X, theta.T)\n",
    "    y_proj = np.dot(Y, theta.T)\n",
    "    #N,d = X.shape\n",
    "    qs = np.linspace(0,1,50)\n",
    "    xp_quantiles = np.quantile(x_proj, qs, axis=0, method=\"inverted_cdf\")\n",
    "    yp_quantiles = np.quantile(y_proj, qs, axis=0, method=\"inverted_cdf\")\n",
    "\n",
    "    \n",
    "    dist_p = np.abs(xp_quantiles - yp_quantiles)**p\n",
    "\n",
    "    #mu = np.mean(dist_p)\n",
    "    #var  =np.var(dist_p)\n",
    "\n",
    "    #print(mu*mu/var)\n",
    "    #print(mu/var)\n",
    "    return dist_p\n",
    "\n",
    "\n",
    "def activation(vector):\n",
    "    return np.exp(vector)/np.exp(vector).sum()\n",
    "\n",
    "\n",
    "def sample_theta(X,num_smaples=10):\n",
    "    _ , d = X.shape\n",
    "    theta = np.random.randn(num_smaples,d)\n",
    "    theta_norm = np.linalg.norm(theta, axis=1)\n",
    "    theta_normed = theta / theta_norm[:, np.newaxis]\n",
    "    return theta_normed\n"
   ]
  },
  {
   "cell_type": "code",
   "execution_count": 330,
   "metadata": {},
   "outputs": [],
   "source": [
    "mx = np.array([1,1,3,0,0])\n",
    "Var_X = np.diag([1,2,3,4,5])\n",
    "my = np.array([0,0,1,2,3])\n",
    "#my=mx\n",
    "Var_Y = np.eye(5)\n",
    "N= 10000\n",
    "X_N = np.random.multivariate_normal(mx,Var_X,size=N)\n",
    "Y_N = np.random.multivariate_normal(my,Var_Y,size=N)\n",
    "THETA = sample_theta(X_N,num_smaples=1000)\n",
    "x_proj = np.dot(X_N,THETA.T)\n",
    "y_proj = np.dot(Y_N,THETA.T)"
   ]
  },
  {
   "cell_type": "code",
   "execution_count": 331,
   "metadata": {},
   "outputs": [
    {
     "name": "stdout",
     "output_type": "stream",
     "text": [
      "True Var after Projection: \n",
      " 5.2000\n",
      "Estimated based on X: \n",
      " 5.241693\n",
      "Estimated Var after Projection: \n",
      " 5.177964\n"
     ]
    }
   ],
   "source": [
    "Var_X_est = pd.DataFrame(X_N).cov().values\n",
    "mx_est = np.mean(X_N,axis=0)\n",
    "projected_var_x = (np.linalg.norm(mx_est,axis=0)**2/5 + np.trace(Var_X_est)/5)\n",
    "true_projected_varx = (np.linalg.norm(mx,axis=0)**2/5 + np.trace(Var_X)/5)\n",
    "print(\"True Var after Projection: \\n {:.4f}\".format(true_projected_varx))\n",
    "print(\"Estimated based on X: \\n {:.6f}\".format(projected_var_x))\n",
    "Var_X_after_proj = np.var(x_proj,axis=1).mean()\n",
    "print(\"Estimated Var after Projection: \\n {:.6f}\".format(Var_X_after_proj))"
   ]
  },
  {
   "cell_type": "code",
   "execution_count": 332,
   "metadata": {},
   "outputs": [
    {
     "name": "stdout",
     "output_type": "stream",
     "text": [
      "True Var after Projection: \n",
      " 3.8000\n",
      "Estimated based on X: \n",
      " 3.798238\n",
      "Estimated Var after Projection: \n",
      " 3.861187\n"
     ]
    }
   ],
   "source": [
    "Var_Y_est = pd.DataFrame(Y_N).cov().values\n",
    "my_est = np.mean(Y_N,axis=0)\n",
    "projected_var_y = (np.linalg.norm(my_est,axis=0)**2/5 + np.trace(Var_Y_est)/5)\n",
    "true_projected_vary = (np.linalg.norm(my,axis=0)**2/5 + np.trace(Var_Y)/5)\n",
    "print(\"True Var after Projection: \\n {:.4f}\".format(true_projected_vary))\n",
    "print(\"Estimated based on X: \\n {:.6f}\".format(projected_var_y))\n",
    "Var_Y_after_proj = np.var(y_proj,axis=1).mean()\n",
    "print(\"Estimated Var after Projection: \\n {:.6f}\".format(Var_Y_after_proj))"
   ]
  },
  {
   "cell_type": "markdown",
   "metadata": {},
   "source": [
    "##### Idea\n",
    "\n",
    "get a distribution for each quantile to then build the difffernce for each distribution \n",
    "\n",
    "Example: \n",
    "\n",
    "$q_X \\sim MVN(\\mu_{qx},\\Sigma_{qx})$\n",
    "$q_Y \\sim MVN(\\mu_{qy},\\Sigma_{qy})$\n",
    "\n",
    "\n",
    "$\\sum_{i=0}^{qs}|q_X[i]-q_Y[i]|^{2}$ should be RV with Gamma Distribution.\n",
    "\n",
    "Since $Z_i = q_X[i]-q_Y[i] \\sim \\mathcal{N}$  and $|\\tilde{Z}_{i}| = |Z_{i}-\\mathbb{E}[Z_{i}]| \\sim HN(\\sigma^{2}) $\n",
    "\n",
    "and $|\\tilde{Z}_{i}|^{2} \\sim \\Gamma(0.5,\\beta_{i})$\n",
    "\n",
    "Problem will be $\\beta$ "
   ]
  },
  {
   "cell_type": "code",
   "execution_count": 395,
   "metadata": {},
   "outputs": [
    {
     "name": "stdout",
     "output_type": "stream",
     "text": [
      "Comparison to var of projection\n",
      "5.214598742673248\n",
      "3.8660620413276297\n",
      "Actual sample Variance\n",
      "2.1744139191618834\n",
      "2.864608441446651\n"
     ]
    }
   ],
   "source": [
    "#### Compute quantiles of Projections for each column \n",
    "\n",
    "qs = np.linspace(0,1,100)\n",
    "\n",
    "x_proj_q = np.quantile(x_proj,qs,axis=0)\n",
    "y_proj_q = np.quantile(y_proj,qs,axis=0)\n",
    "\n",
    "TRACE_X_est = np.trace(Var_X_est)/5\n",
    "TRACE_Y_est = np.trace(Var_Y_est)/5\n",
    "\n",
    "print('Comparison to var of projection')\n",
    "print(np.var(x_proj_q,axis=1).mean()+TRACE_X_est)\n",
    "print(np.var(y_proj_q,axis=1).mean()+TRACE_Y_est)\n",
    "\n",
    "\n",
    "print('Actual sample Variance')\n",
    "print(np.var(x_proj_q,axis=1).mean())\n",
    "print(np.var(y_proj_q,axis=1).mean())\n"
   ]
  },
  {
   "cell_type": "code",
   "execution_count": 396,
   "metadata": {},
   "outputs": [
    {
     "name": "stdout",
     "output_type": "stream",
     "text": [
      "(100, 1000)\n",
      "0\n",
      "###########\n",
      "a 0.7141196019245422\n",
      "b 18.545087388492277\n",
      "1\n",
      "###########\n",
      "a 0.5668711336265755\n",
      "b 11.881174017499582\n",
      "2\n",
      "###########\n",
      "a 0.553720075680346\n",
      "b 10.95420337719299\n",
      "3\n",
      "###########\n",
      "a 0.5526066877860668\n",
      "b 10.265405613919864\n",
      "4\n",
      "###########\n",
      "a 0.553813570556835\n",
      "b 9.749524159857884\n",
      "5\n",
      "###########\n",
      "a 0.5564055156293521\n",
      "b 9.335981785560861\n",
      "6\n",
      "###########\n",
      "a 0.5600052892602919\n",
      "b 8.97338397380975\n",
      "7\n",
      "###########\n",
      "a 0.5644089423152603\n",
      "b 8.65577648222474\n",
      "8\n",
      "###########\n",
      "a 0.5696405222868883\n",
      "b 8.36344288469373\n",
      "9\n",
      "###########\n",
      "a 0.5758779646444955\n",
      "b 8.085847930789125\n",
      "10\n",
      "###########\n",
      "a 0.5818759131143697\n",
      "b 7.8383100535240375\n",
      "11\n",
      "###########\n",
      "a 0.5876014522550247\n",
      "b 7.620610778776182\n",
      "12\n",
      "###########\n",
      "a 0.5943023177386764\n",
      "b 7.410126294031724\n",
      "13\n",
      "###########\n",
      "a 0.6008197781148299\n",
      "b 7.21856458913456\n",
      "14\n",
      "###########\n",
      "a 0.6074942876747517\n",
      "b 7.035110977722228\n",
      "15\n",
      "###########\n",
      "a 0.6144155376100864\n",
      "b 6.862253025760765\n",
      "16\n",
      "###########\n",
      "a 0.6211424301230927\n",
      "b 6.701801193506798\n",
      "17\n",
      "###########\n",
      "a 0.6282575854926981\n",
      "b 6.549549324536526\n",
      "18\n",
      "###########\n",
      "a 0.6361318048462421\n",
      "b 6.399029506550206\n",
      "19\n",
      "###########\n",
      "a 0.6436293737708465\n",
      "b 6.256677206666574\n",
      "20\n",
      "###########\n",
      "a 0.6505318612558119\n",
      "b 6.131827067313981\n",
      "21\n",
      "###########\n",
      "a 0.6582518802158243\n",
      "b 6.003614997858672\n",
      "22\n",
      "###########\n",
      "a 0.6656641799878888\n",
      "b 5.887125180876976\n",
      "23\n",
      "###########\n",
      "a 0.6724587248190577\n",
      "b 5.779286505400681\n",
      "24\n",
      "###########\n",
      "a 0.6794100529804634\n",
      "b 5.6772284030963895\n",
      "25\n",
      "###########\n",
      "a 0.6868478925484501\n",
      "b 5.577508250606737\n",
      "26\n",
      "###########\n",
      "a 0.6942429480476863\n",
      "b 5.482715347678428\n",
      "27\n",
      "###########\n",
      "a 0.7016768109265784\n",
      "b 5.3917724435895185\n",
      "28\n",
      "###########\n",
      "a 0.7090967613267526\n",
      "b 5.30394898007129\n",
      "29\n",
      "###########\n",
      "a 0.7160975878968951\n",
      "b 5.223077941927161\n",
      "30\n",
      "###########\n",
      "a 0.723189483777684\n",
      "b 5.1435316098663835\n",
      "31\n",
      "###########\n",
      "a 0.730054040866032\n",
      "b 5.073320580313668\n",
      "32\n",
      "###########\n",
      "a 0.7362249225455091\n",
      "b 5.008993204760436\n",
      "33\n",
      "###########\n",
      "a 0.7429702623457791\n",
      "b 4.942675968822795\n",
      "34\n",
      "###########\n",
      "a 0.7487577850088374\n",
      "b 4.8843350930699465\n",
      "35\n",
      "###########\n",
      "a 0.7550997758523219\n",
      "b 4.825873098582718\n",
      "36\n",
      "###########\n",
      "a 0.7609978735417239\n",
      "b 4.770695240977155\n",
      "37\n",
      "###########\n",
      "a 0.7668397576881619\n",
      "b 4.719814130788863\n",
      "38\n",
      "###########\n",
      "a 0.7725054584832552\n",
      "b 4.673390344934828\n",
      "39\n",
      "###########\n",
      "a 0.7780830450026399\n",
      "b 4.628479138474021\n",
      "40\n",
      "###########\n",
      "a 0.7831851954128864\n",
      "b 4.588289640079066\n",
      "41\n",
      "###########\n",
      "a 0.7875717151924854\n",
      "b 4.553540790864637\n",
      "42\n",
      "###########\n",
      "a 0.7919464965945199\n",
      "b 4.519366816900683\n",
      "43\n",
      "###########\n",
      "a 0.7963374719982704\n",
      "b 4.487447948296533\n",
      "44\n",
      "###########\n",
      "a 0.8005623717514856\n",
      "b 4.4563444717898255\n",
      "45\n",
      "###########\n",
      "a 0.8043016933717771\n",
      "b 4.4302610580928725\n",
      "46\n",
      "###########\n",
      "a 0.8070269268156797\n",
      "b 4.410959798957956\n",
      "47\n",
      "###########\n",
      "a 0.8099359912684599\n",
      "b 4.391147957153978\n",
      "48\n",
      "###########\n",
      "a 0.8123237850576499\n",
      "b 4.376351906708826\n",
      "49\n",
      "###########\n",
      "a 0.8142689263421669\n",
      "b 4.3636279953621955\n",
      "50\n",
      "###########\n",
      "a 0.8156907076606378\n",
      "b 4.356417758199661\n",
      "51\n",
      "###########\n",
      "a 0.8163990357965446\n",
      "b 4.353734021671444\n",
      "52\n",
      "###########\n",
      "a 0.817326671364866\n",
      "b 4.349175229452737\n",
      "53\n",
      "###########\n",
      "a 0.8177100743699312\n",
      "b 4.347999211824328\n",
      "54\n",
      "###########\n",
      "a 0.8172110061429367\n",
      "b 4.352104405855915\n",
      "55\n",
      "###########\n",
      "a 0.8166354074720881\n",
      "b 4.357676774565821\n",
      "56\n",
      "###########\n",
      "a 0.815433155323006\n",
      "b 4.369697943037714\n",
      "57\n",
      "###########\n",
      "a 0.8143476069431368\n",
      "b 4.381572305071913\n",
      "58\n",
      "###########\n",
      "a 0.8121968262827036\n",
      "b 4.398840000119378\n",
      "59\n",
      "###########\n",
      "a 0.8100470787998046\n",
      "b 4.417741233066325\n",
      "60\n",
      "###########\n",
      "a 0.8072184603629696\n",
      "b 4.44204562140038\n",
      "61\n",
      "###########\n",
      "a 0.8044031693976978\n",
      "b 4.467215914581488\n",
      "62\n",
      "###########\n",
      "a 0.8010827952264168\n",
      "b 4.497121687538697\n",
      "63\n",
      "###########\n",
      "a 0.7971653970333756\n",
      "b 4.530847968010551\n",
      "64\n",
      "###########\n",
      "a 0.7937430961951562\n",
      "b 4.563060940041329\n",
      "65\n",
      "###########\n",
      "a 0.7893391042149284\n",
      "b 4.602746272470575\n",
      "66\n",
      "###########\n",
      "a 0.7846841039375074\n",
      "b 4.647105719138768\n",
      "67\n",
      "###########\n",
      "a 0.7793431678673793\n",
      "b 4.697310400432035\n",
      "68\n",
      "###########\n",
      "a 0.7748759179076175\n",
      "b 4.744765312826877\n",
      "69\n",
      "###########\n",
      "a 0.7703626664557368\n",
      "b 4.795518389430156\n",
      "70\n",
      "###########\n",
      "a 0.7646029790287894\n",
      "b 4.8547557132265355\n",
      "71\n",
      "###########\n",
      "a 0.7585084425792783\n",
      "b 4.9206558159094325\n",
      "72\n",
      "###########\n",
      "a 0.7514481573999849\n",
      "b 4.995134092355192\n",
      "73\n",
      "###########\n",
      "a 0.7452100231476864\n",
      "b 5.067558007028911\n",
      "74\n",
      "###########\n",
      "a 0.7387754185861475\n",
      "b 5.144067280122264\n",
      "75\n",
      "###########\n",
      "a 0.7324951872175643\n",
      "b 5.223612370991819\n",
      "76\n",
      "###########\n",
      "a 0.7258989667631692\n",
      "b 5.31232016749598\n",
      "77\n",
      "###########\n",
      "a 0.7191251032839533\n",
      "b 5.404460065369395\n",
      "78\n",
      "###########\n",
      "a 0.7123651677857485\n",
      "b 5.501101673098983\n",
      "79\n",
      "###########\n",
      "a 0.7052480920845151\n",
      "b 5.604693570240456\n",
      "80\n",
      "###########\n",
      "a 0.6977831445706724\n",
      "b 5.7193498194094925\n",
      "81\n",
      "###########\n",
      "a 0.6906420386118788\n",
      "b 5.838308751314002\n",
      "82\n",
      "###########\n",
      "a 0.6831070835281128\n",
      "b 5.966511953302085\n",
      "83\n",
      "###########\n",
      "a 0.6755874928651624\n",
      "b 6.10222335140466\n",
      "84\n",
      "###########\n",
      "a 0.668377563581456\n",
      "b 6.243762768135483\n",
      "85\n",
      "###########\n",
      "a 0.6605874015483744\n",
      "b 6.402986719019629\n",
      "86\n",
      "###########\n",
      "a 0.6535655537942112\n",
      "b 6.562710276040311\n",
      "87\n",
      "###########\n",
      "a 0.6457835537512663\n",
      "b 6.745617540932725\n",
      "88\n",
      "###########\n",
      "a 0.6385059475222302\n",
      "b 6.936970021142255\n",
      "89\n",
      "###########\n",
      "a 0.6309153333480554\n",
      "b 7.1484652003417155\n",
      "90\n",
      "###########\n",
      "a 0.6231167740591113\n",
      "b 7.384601746446797\n",
      "91\n",
      "###########\n",
      "a 0.6158009953405877\n",
      "b 7.6397361213628985\n",
      "92\n",
      "###########\n",
      "a 0.6082260740796185\n",
      "b 7.929300235376154\n",
      "93\n",
      "###########\n",
      "a 0.6022959205537306\n",
      "b 8.231761982072198\n",
      "94\n",
      "###########\n",
      "a 0.5966878196700327\n",
      "b 8.583937017394204\n",
      "95\n",
      "###########\n",
      "a 0.592806530850946\n",
      "b 8.97789600751027\n",
      "96\n",
      "###########\n",
      "a 0.5891926025364638\n",
      "b 9.47665751606359\n",
      "97\n",
      "###########\n",
      "a 0.5903573631333852\n",
      "b 10.118749742838183\n",
      "98\n",
      "###########\n",
      "a 0.5995814828046979\n",
      "b 11.052689543447629\n",
      "99\n",
      "###########\n",
      "a 0.7228187654626189\n",
      "b 18.459440176596534\n"
     ]
    },
    {
     "data": {
      "text/plain": [
       "0     13.243410\n",
       "1      6.735095\n",
       "2      6.065562\n",
       "3      5.672732\n",
       "4      5.399419\n",
       "        ...    \n",
       "95     5.322155\n",
       "96     5.583577\n",
       "97     5.973678\n",
       "98     6.626988\n",
       "99    13.342830\n",
       "Length: 100, dtype: float64"
      ]
     },
     "execution_count": 396,
     "metadata": {},
     "output_type": "execute_result"
    }
   ],
   "source": [
    "Q_mean = np.mean(x_proj_q,axis=1)-np.mean(y_proj_q,axis=1)\n",
    "Q_var = np.var(x_proj_q,axis=1)+np.var(y_proj_q,axis=1)\n",
    "\n",
    "\n",
    "diff_quantiles = x_proj_q - y_proj_q\n",
    "\n",
    "\n",
    "diff_quantiles_normalised = np.zeros((len(qs),1000))\n",
    "for t in range(len(qs)):\n",
    "    diff_quantiles_normalised[t,:] = diff_quantiles[t,:] - Q_mean[t]\n",
    "\n",
    "print(diff_quantiles.shape)\n",
    "##### Verteilung pro q \n",
    "\n",
    "Diff_2  = pd.DataFrame(np.abs(diff_quantiles)**2)\n",
    "\n",
    "\n",
    "for t in range(len(qs)):\n",
    "    m = Diff_2.iloc[t,:].mean()\n",
    "    v = Diff_2.iloc[t,:].var()\n",
    "    print(t)\n",
    "    print(\"###########\")\n",
    "    print(\"a\", m**2/v)\n",
    "    print('b', v/m)\n",
    "\n",
    "### mean is actually near a*b of fitted Gamma to output\n",
    "Diff_2.mean(axis=1)\n"
   ]
  },
  {
   "cell_type": "code",
   "execution_count": 419,
   "metadata": {},
   "outputs": [
    {
     "data": {
      "text/plain": [
       "0     245.600204\n",
       "1      80.020831\n",
       "2      66.443403\n",
       "3      58.232893\n",
       "4      52.641764\n",
       "         ...    \n",
       "95     47.781758\n",
       "96     52.913642\n",
       "97     60.446157\n",
       "98     73.246041\n",
       "99    246.301168\n",
       "Length: 100, dtype: float64"
      ]
     },
     "execution_count": 419,
     "metadata": {},
     "output_type": "execute_result"
    }
   ],
   "source": [
    "Diff_2.var(axis=1)"
   ]
  },
  {
   "cell_type": "code",
   "execution_count": 416,
   "metadata": {},
   "outputs": [
    {
     "data": {
      "text/plain": [
       "array([14.6416506 ,  6.37452985,  5.35689933,  4.74143043,  4.29684266,\n",
       "        3.95421391,  3.66524131,  3.4234234 ,  3.20948913,  3.01955705,\n",
       "        2.84502473,  2.68557915,  2.54238613,  2.40810106,  2.28478619,\n",
       "        2.16851216,  2.05949054,  1.95673091,  1.85825806,  1.76535708,\n",
       "        1.67596773,  1.59062751,  1.51015939,  1.4317014 ,  1.35640561,\n",
       "        1.28349432,  1.21362794,  1.14719963,  1.0824768 ,  1.02006971,\n",
       "        0.95852958,  0.89948826,  0.84249064,  0.78688715,  0.73278796,\n",
       "        0.68106641,  0.62964206,  0.57951443,  0.53073732,  0.48329279,\n",
       "        0.4358076 ,  0.39023017,  0.34568391,  0.30209923,  0.25873358,\n",
       "        0.21713696,  0.17597449,  0.13550352,  0.09633587,  0.0577147 ,\n",
       "        0.01968664,  0.01774477,  0.05593084,  0.09478696,  0.13460621,\n",
       "        0.17536128,  0.21625654,  0.25849979,  0.30144949,  0.34550267,\n",
       "        0.39038974,  0.43583827,  0.483206  ,  0.53139765,  0.58095536,\n",
       "        0.63160534,  0.68400826,  0.7379603 ,  0.79319926,  0.85000695,\n",
       "        0.90842763,  0.9702477 ,  1.0336321 ,  1.09936625,  1.16774973,\n",
       "        1.23808937,  1.31187297,  1.38839258,  1.46675444,  1.54955354,\n",
       "        1.63620119,  1.72727616,  1.82097884,  1.92225688,  2.02850273,\n",
       "        2.14292526,  2.26397015,  2.39422034,  2.53578953,  2.69109568,\n",
       "        2.86099353,  3.04817092,  3.25815131,  3.49881509,  3.77984439,\n",
       "        4.1179621 ,  4.54993958,  5.15421332,  6.14074887, 14.46182535])"
      ]
     },
     "execution_count": 416,
     "metadata": {},
     "output_type": "execute_result"
    }
   ],
   "source": [
    "np.abs(Q_mean)**2+2*np.abs(Q_mean)\n"
   ]
  },
  {
   "cell_type": "code",
   "execution_count": 389,
   "metadata": {},
   "outputs": [
    {
     "data": {
      "text/plain": [
       "0      2.456002\n",
       "1      1.291553\n",
       "2      1.146780\n",
       "3      1.054032\n",
       "4      0.995062\n",
       "         ...   \n",
       "995    0.921226\n",
       "996    0.985594\n",
       "997    1.071738\n",
       "998    1.233270\n",
       "999    2.463012\n",
       "Length: 1000, dtype: float64"
      ]
     },
     "execution_count": 389,
     "metadata": {},
     "output_type": "execute_result"
    }
   ],
   "source": [
    "((Diff_2.var(axis=1))/100)"
   ]
  },
  {
   "cell_type": "code",
   "execution_count": 369,
   "metadata": {},
   "outputs": [
    {
     "data": {
      "text/plain": [
       "<Axes: ylabel='Density'>"
      ]
     },
     "execution_count": 369,
     "metadata": {},
     "output_type": "execute_result"
    },
    {
     "data": {
      "image/png": "[encoded data removed]",
      "text/plain": [
       "<Figure size 640x480 with 1 Axes>"
      ]
     },
     "metadata": {},
     "output_type": "display_data"
    }
   ],
   "source": [
    "fig2,ax2  = plt.subplots()\n",
    "\n",
    "W2 = pd.DataFrame(project_and_calc_dist(X_N,Y_N,THETA,p=2).mean(axis=0))\n",
    "W2.plot.kde(ax=ax2)\n",
    "\n",
    "b= W2.var()/W2.mean()\n",
    "a = W2.mean()**2/W2.var()\n",
    "\n",
    "\n",
    "#pd.DataFrame(np.random.noncentral_chisquare(2,1,1000),columns=['Non central chi squared']).plot.kde(ax=ax2)\n",
    "\n",
    "\n",
    "pd.DataFrame(np.random.gamma(a,b,1000),columns=['Gamma Fit']).plot.kde(ax=ax2)\n"
   ]
  },
  {
   "cell_type": "code",
   "execution_count": 370,
   "metadata": {},
   "outputs": [
    {
     "name": "stdout",
     "output_type": "stream",
     "text": [
      "0    1.148441\n",
      "dtype: float64 0    3.864646\n",
      "dtype: float64\n"
     ]
    }
   ],
   "source": [
    "print(a,b)"
   ]
  },
  {
   "cell_type": "code",
   "execution_count": 376,
   "metadata": {},
   "outputs": [
    {
     "data": {
      "text/plain": [
       "0    4.141562\n",
       "dtype: float64"
      ]
     },
     "execution_count": 376,
     "metadata": {},
     "output_type": "execute_result"
    }
   ],
   "source": [
    "a*b\n",
    "(a*b**2)**0.5"
   ]
  },
  {
   "cell_type": "code",
   "execution_count": 280,
   "metadata": {},
   "outputs": [
    {
     "data": {
      "text/plain": [
       "np.float64(140.35069556136264)"
      ]
     },
     "execution_count": 280,
     "metadata": {},
     "output_type": "execute_result"
    }
   ],
   "source": [
    "(1/2/(1/diff_quantiles_normalised.var(axis=1))).sum()"
   ]
  },
  {
   "cell_type": "code",
   "execution_count": 193,
   "metadata": {},
   "outputs": [
    {
     "data": {
      "text/plain": [
       "array([3.95005431, 2.93186878, 2.88045703, 2.88111364, 2.87952402,\n",
       "       2.87241521, 2.87040395, 2.87157463, 2.86478876, 2.85025021,\n",
       "       2.84545007, 2.84207816, 2.83245767, 2.83016088, 2.82586935,\n",
       "       2.82421098, 2.82142926, 2.81568365, 2.81632208, 2.80992566,\n",
       "       2.8007102 , 2.79261665, 2.79192516, 2.79456058, 2.79067915,\n",
       "       2.7868046 , 2.78370254, 2.77825569, 2.7712362 , 2.77098077,\n",
       "       2.77023468, 2.76718232, 2.7654975 , 2.75883996, 2.75595509,\n",
       "       2.75327431, 2.75540853, 2.75186241, 2.75118933, 2.75102743,\n",
       "       2.75266897, 2.75153251, 2.74916328, 2.7480474 , 2.74970595,\n",
       "       2.75066587, 2.7508124 , 2.74883728, 2.74894791, 2.7468881 ,\n",
       "       2.74462822, 2.74843268, 2.74364515, 2.74650424, 2.74508627,\n",
       "       2.74369939, 2.7390572 , 2.73721715, 2.73572513, 2.73640798,\n",
       "       2.73966866, 2.74052842, 2.73582344, 2.73919158, 2.73864255,\n",
       "       2.74013341, 2.74064078, 2.743398  , 2.74663901, 2.74998923,\n",
       "       2.75244106, 2.76041585, 2.76009258, 2.76501139, 2.76430623,\n",
       "       2.76882048, 2.7702502 , 2.77250317, 2.77389623, 2.77914837,\n",
       "       2.78321008, 2.78616254, 2.78991987, 2.79277873, 2.79740461,\n",
       "       2.7987944 , 2.79423277, 2.79536738, 2.7920657 , 2.79881891,\n",
       "       2.80151684, 2.80218918, 2.79818772, 2.80141761, 2.79880961,\n",
       "       2.78718226, 2.78825801, 2.7790509 , 2.82891644, 4.02991246])"
      ]
     },
     "execution_count": 193,
     "metadata": {},
     "output_type": "execute_result"
    }
   ],
   "source": [
    "#### ql times L matrix\n",
    "diff_quantiles = x_proj_q - y_proj_q\n",
    "\n",
    "(np.var(x_proj_q,axis=1)+np.var(y_proj_q,axis=1)).mean()\n",
    "\n",
    "diff_quantiles.var(axis=1)"
   ]
  },
  {
   "cell_type": "markdown",
   "metadata": {},
   "source": [
    "### $\\Gamma$-Process\n",
    "\n",
    "$X_{t}=X_{t-1} + \\epsilon_{t}$ with $\\epsilon_{t} \\sim \\Gamma(\\alpha,\\beta)$\n",
    "\n",
    "with random changes Gamma distribution at $t=100,200$"
   ]
  },
  {
   "cell_type": "code",
   "execution_count": 147,
   "metadata": {},
   "outputs": [
    {
     "data": {
      "text/plain": [
       "array([<Axes: title={'center': 'Hist of Process'}>], dtype=object)"
      ]
     },
     "execution_count": 147,
     "metadata": {},
     "output_type": "execute_result"
    },
    {
     "data": {
      "image/png": "[encoded data removed]",
      "text/plain": [
       "<Figure size 640x480 with 1 Axes>"
      ]
     },
     "metadata": {},
     "output_type": "display_data"
    }
   ],
   "source": [
    "Gamma1 =np.random.gamma(10,0.5,100)\n",
    "Gamma2 = np.random.gamma(1,2,100)\n",
    "Gamma3 = np.random.gamma(10,0.3,100)\n",
    "\n",
    "Process = pd.DataFrame(np.hstack((Gamma1,Gamma2,Gamma3)),columns=['Hist of Process'])\n",
    "\n",
    "fig, ax = plt.subplots()\n",
    "Process[:100].hist(ax=ax,alpha=0.5)\n",
    "Process[100:200].hist(ax=ax,alpha=0.5)\n",
    "Process[200:].hist(ax=ax,alpha=0.5)\n"
   ]
  },
  {
   "cell_type": "code",
   "execution_count": null,
   "metadata": {},
   "outputs": [],
   "source": [
    "    "
   ]
  },
  {
   "cell_type": "code",
   "execution_count": 138,
   "metadata": {},
   "outputs": [
    {
     "data": {
      "text/plain": [
       "<Axes: >"
      ]
     },
     "execution_count": 138,
     "metadata": {},
     "output_type": "execute_result"
    },
    {
     "data": {
      "image/png": "[encoded data removed]",
      "text/plain": [
       "<Figure size 640x480 with 1 Axes>"
      ]
     },
     "metadata": {},
     "output_type": "display_data"
    }
   ],
   "source": [
    "pd.DataFrame(np.hstack((Gamma1,Gamma2,Gamma3))).cumsum().plot()"
   ]
  }
 ],
 "metadata": {
  "kernelspec": {
   "display_name": "venv",
   "language": "python",
   "name": "python3"
  },
  "language_info": {
   "codemirror_mode": {
    "name": "ipython",
    "version": 3
   },
   "file_extension": ".py",
   "mimetype": "text/x-python",
   "name": "python",
   "nbconvert_exporter": "python",
   "pygments_lexer": "ipython3",
   "version": "3.12.3"
  }
 },
 "nbformat": 4,
 "nbformat_minor": 2
}
